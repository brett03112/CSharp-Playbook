{
 "cells": [
  {
   "cell_type": "code",
   "execution_count": 1,
   "id": "31f10f23-6cfb-4ca0-bfe7-e48ef0333d2b",
   "metadata": {},
   "outputs": [
    {
     "name": "stdout",
     "output_type": "stream",
     "text": [
      "Hello World!\n"
     ]
    }
   ],
   "source": [
    "Console.WriteLine(\"Hello World!\");"
   ]
  },
  {
   "cell_type": "code",
   "execution_count": 5,
   "id": "18c7f5b8-5dbc-4e81-be2a-1cd612491e03",
   "metadata": {
    "editable": true,
    "slideshow": {
     "slide_type": ""
    },
    "tags": []
   },
   "outputs": [
    {
     "name": "stdout",
     "output_type": "stream",
     "text": [
      "9000\n"
     ]
    }
   ],
   "source": [
    "string x = \"9000\";\n",
    "int y = int.Parse(x);\n",
    "Console.WriteLine(y);\n"
   ]
  },
  {
   "cell_type": "code",
   "execution_count": null,
   "id": "9bfdcc81-4baa-49c2-b661-6aac3d7abd34",
   "metadata": {},
   "outputs": [],
   "source": []
  }
 ],
 "metadata": {
  "kernelspec": {
   "display_name": ".NET (C#)",
   "language": "C#",
   "name": ".net-csharp"
  },
  "language_info": {
   "file_extension": ".cs",
   "mimetype": "text/x-csharp",
   "name": "C#",
   "pygments_lexer": "csharp",
   "version": "8.0"
  }
 },
 "nbformat": 4,
 "nbformat_minor": 5
}
